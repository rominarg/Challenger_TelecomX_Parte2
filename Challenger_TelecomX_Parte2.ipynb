{
  "cells": [
    {
      "cell_type": "markdown",
      "metadata": {
        "id": "view-in-github",
        "colab_type": "text"
      },
      "source": [
        "<a href=\"https://colab.research.google.com/github/rominarg/Challenger_TelecomX_Parte2/blob/main/Challenger_TelecomX_Parte2.ipynb\" target=\"_parent\"><img src=\"https://colab.research.google.com/assets/colab-badge.svg\" alt=\"Open In Colab\"/></a>"
      ]
    },
    {
      "cell_type": "markdown",
      "metadata": {
        "id": "OuBm_SFJy2Rn"
      },
      "source": [
        "Importo Librerías"
      ]
    },
    {
      "cell_type": "code",
      "execution_count": null,
      "metadata": {
        "id": "AcjLh8WHyaxB"
      },
      "outputs": [],
      "source": [
        "import pandas as pd\n",
        "import numpy as np\n",
        "from sklearn.model_selection import train_test_split\n",
        "from sklearn.preprocessing import LabelEncoder, OneHotEncoder, RobustScaler\n",
        "from sklearn.linear_model import LogisticRegression\n",
        "from sklearn.ensemble import RandomForestClassifier\n",
        "from sklearn.metrics import classification_report, confusion_matrix, roc_auc_score, roc_curve\n",
        "from imblearn.over_sampling import SMOTE\n",
        "import matplotlib.pyplot as plt\n",
        "import seaborn as sns"
      ]
    },
    {
      "cell_type": "markdown",
      "metadata": {
        "id": "pUnD24s_zIhX"
      },
      "source": [
        "Extracción de datos"
      ]
    },
    {
      "cell_type": "code",
      "execution_count": null,
      "metadata": {
        "colab": {
          "base_uri": "https://localhost:8080/",
          "height": 325
        },
        "id": "WAREa4b_zLwH",
        "outputId": "0fdc2396-c05a-4271-b8b8-9ab073d2fad4"
      },
      "outputs": [
        {
          "data": {
            "application/vnd.google.colaboratory.intrinsic+json": {
              "type": "dataframe",
              "variable_name": "df"
            },
            "text/html": [
              "\n",
              "  <div id=\"df-c711df3f-9f02-4f1d-a1a7-863ce578c545\" class=\"colab-df-container\">\n",
              "    <div>\n",
              "<style scoped>\n",
              "    .dataframe tbody tr th:only-of-type {\n",
              "        vertical-align: middle;\n",
              "    }\n",
              "\n",
              "    .dataframe tbody tr th {\n",
              "        vertical-align: top;\n",
              "    }\n",
              "\n",
              "    .dataframe thead th {\n",
              "        text-align: right;\n",
              "    }\n",
              "</style>\n",
              "<table border=\"1\" class=\"dataframe\">\n",
              "  <thead>\n",
              "    <tr style=\"text-align: right;\">\n",
              "      <th></th>\n",
              "      <th>id_cliente</th>\n",
              "      <th>cancelamento</th>\n",
              "      <th>genero</th>\n",
              "      <th>idoso</th>\n",
              "      <th>possui_conjuge</th>\n",
              "      <th>possui_dependentes</th>\n",
              "      <th>meses_como_cliente</th>\n",
              "      <th>servico_telefonico</th>\n",
              "      <th>multiplas_linhas</th>\n",
              "      <th>servico_internet</th>\n",
              "      <th>...</th>\n",
              "      <th>protecao_dispositivo</th>\n",
              "      <th>suporte_tecnico</th>\n",
              "      <th>tv_streaming</th>\n",
              "      <th>filmes_streaming</th>\n",
              "      <th>tipo_contrato</th>\n",
              "      <th>fatura_online</th>\n",
              "      <th>metodo_pagamento</th>\n",
              "      <th>custo_mensal</th>\n",
              "      <th>custo_total</th>\n",
              "      <th>contas_diarias</th>\n",
              "    </tr>\n",
              "  </thead>\n",
              "  <tbody>\n",
              "    <tr>\n",
              "      <th>0</th>\n",
              "      <td>0002-ORFBO</td>\n",
              "      <td>0</td>\n",
              "      <td>0</td>\n",
              "      <td>0</td>\n",
              "      <td>1</td>\n",
              "      <td>1</td>\n",
              "      <td>9</td>\n",
              "      <td>1</td>\n",
              "      <td>0</td>\n",
              "      <td>DSL</td>\n",
              "      <td>...</td>\n",
              "      <td>0</td>\n",
              "      <td>1</td>\n",
              "      <td>1</td>\n",
              "      <td>0</td>\n",
              "      <td>One year</td>\n",
              "      <td>1</td>\n",
              "      <td>Mailed check</td>\n",
              "      <td>65.6</td>\n",
              "      <td>593.0</td>\n",
              "      <td>2.186667</td>\n",
              "    </tr>\n",
              "    <tr>\n",
              "      <th>1</th>\n",
              "      <td>0003-MKNFE</td>\n",
              "      <td>0</td>\n",
              "      <td>1</td>\n",
              "      <td>0</td>\n",
              "      <td>0</td>\n",
              "      <td>0</td>\n",
              "      <td>9</td>\n",
              "      <td>1</td>\n",
              "      <td>1</td>\n",
              "      <td>DSL</td>\n",
              "      <td>...</td>\n",
              "      <td>0</td>\n",
              "      <td>0</td>\n",
              "      <td>0</td>\n",
              "      <td>1</td>\n",
              "      <td>Month-to-month</td>\n",
              "      <td>0</td>\n",
              "      <td>Mailed check</td>\n",
              "      <td>59.9</td>\n",
              "      <td>542.0</td>\n",
              "      <td>1.996667</td>\n",
              "    </tr>\n",
              "    <tr>\n",
              "      <th>2</th>\n",
              "      <td>0004-TLHLJ</td>\n",
              "      <td>1</td>\n",
              "      <td>1</td>\n",
              "      <td>0</td>\n",
              "      <td>0</td>\n",
              "      <td>0</td>\n",
              "      <td>4</td>\n",
              "      <td>1</td>\n",
              "      <td>0</td>\n",
              "      <td>Fiber optic</td>\n",
              "      <td>...</td>\n",
              "      <td>1</td>\n",
              "      <td>0</td>\n",
              "      <td>0</td>\n",
              "      <td>0</td>\n",
              "      <td>Month-to-month</td>\n",
              "      <td>1</td>\n",
              "      <td>Electronic check</td>\n",
              "      <td>73.9</td>\n",
              "      <td>280.0</td>\n",
              "      <td>2.463333</td>\n",
              "    </tr>\n",
              "    <tr>\n",
              "      <th>3</th>\n",
              "      <td>0011-IGKFF</td>\n",
              "      <td>1</td>\n",
              "      <td>1</td>\n",
              "      <td>1</td>\n",
              "      <td>1</td>\n",
              "      <td>0</td>\n",
              "      <td>13</td>\n",
              "      <td>1</td>\n",
              "      <td>0</td>\n",
              "      <td>Fiber optic</td>\n",
              "      <td>...</td>\n",
              "      <td>1</td>\n",
              "      <td>0</td>\n",
              "      <td>1</td>\n",
              "      <td>1</td>\n",
              "      <td>Month-to-month</td>\n",
              "      <td>1</td>\n",
              "      <td>Electronic check</td>\n",
              "      <td>98.0</td>\n",
              "      <td>1237.0</td>\n",
              "      <td>3.266667</td>\n",
              "    </tr>\n",
              "    <tr>\n",
              "      <th>4</th>\n",
              "      <td>0013-EXCHZ</td>\n",
              "      <td>1</td>\n",
              "      <td>0</td>\n",
              "      <td>1</td>\n",
              "      <td>1</td>\n",
              "      <td>0</td>\n",
              "      <td>3</td>\n",
              "      <td>1</td>\n",
              "      <td>0</td>\n",
              "      <td>Fiber optic</td>\n",
              "      <td>...</td>\n",
              "      <td>0</td>\n",
              "      <td>1</td>\n",
              "      <td>1</td>\n",
              "      <td>0</td>\n",
              "      <td>Month-to-month</td>\n",
              "      <td>1</td>\n",
              "      <td>Mailed check</td>\n",
              "      <td>83.9</td>\n",
              "      <td>267.0</td>\n",
              "      <td>2.796667</td>\n",
              "    </tr>\n",
              "  </tbody>\n",
              "</table>\n",
              "<p>5 rows × 22 columns</p>\n",
              "</div>\n",
              "    <div class=\"colab-df-buttons\">\n",
              "\n",
              "  <div class=\"colab-df-container\">\n",
              "    <button class=\"colab-df-convert\" onclick=\"convertToInteractive('df-c711df3f-9f02-4f1d-a1a7-863ce578c545')\"\n",
              "            title=\"Convert this dataframe to an interactive table.\"\n",
              "            style=\"display:none;\">\n",
              "\n",
              "  <svg xmlns=\"http://www.w3.org/2000/svg\" height=\"24px\" viewBox=\"0 -960 960 960\">\n",
              "    <path d=\"M120-120v-720h720v720H120Zm60-500h600v-160H180v160Zm220 220h160v-160H400v160Zm0 220h160v-160H400v160ZM180-400h160v-160H180v160Zm440 0h160v-160H620v160ZM180-180h160v-160H180v160Zm440 0h160v-160H620v160Z\"/>\n",
              "  </svg>\n",
              "    </button>\n",
              "\n",
              "  <style>\n",
              "    .colab-df-container {\n",
              "      display:flex;\n",
              "      gap: 12px;\n",
              "    }\n",
              "\n",
              "    .colab-df-convert {\n",
              "      background-color: #E8F0FE;\n",
              "      border: none;\n",
              "      border-radius: 50%;\n",
              "      cursor: pointer;\n",
              "      display: none;\n",
              "      fill: #1967D2;\n",
              "      height: 32px;\n",
              "      padding: 0 0 0 0;\n",
              "      width: 32px;\n",
              "    }\n",
              "\n",
              "    .colab-df-convert:hover {\n",
              "      background-color: #E2EBFA;\n",
              "      box-shadow: 0px 1px 2px rgba(60, 64, 67, 0.3), 0px 1px 3px 1px rgba(60, 64, 67, 0.15);\n",
              "      fill: #174EA6;\n",
              "    }\n",
              "\n",
              "    .colab-df-buttons div {\n",
              "      margin-bottom: 4px;\n",
              "    }\n",
              "\n",
              "    [theme=dark] .colab-df-convert {\n",
              "      background-color: #3B4455;\n",
              "      fill: #D2E3FC;\n",
              "    }\n",
              "\n",
              "    [theme=dark] .colab-df-convert:hover {\n",
              "      background-color: #434B5C;\n",
              "      box-shadow: 0px 1px 3px 1px rgba(0, 0, 0, 0.15);\n",
              "      filter: drop-shadow(0px 1px 2px rgba(0, 0, 0, 0.3));\n",
              "      fill: #FFFFFF;\n",
              "    }\n",
              "  </style>\n",
              "\n",
              "    <script>\n",
              "      const buttonEl =\n",
              "        document.querySelector('#df-c711df3f-9f02-4f1d-a1a7-863ce578c545 button.colab-df-convert');\n",
              "      buttonEl.style.display =\n",
              "        google.colab.kernel.accessAllowed ? 'block' : 'none';\n",
              "\n",
              "      async function convertToInteractive(key) {\n",
              "        const element = document.querySelector('#df-c711df3f-9f02-4f1d-a1a7-863ce578c545');\n",
              "        const dataTable =\n",
              "          await google.colab.kernel.invokeFunction('convertToInteractive',\n",
              "                                                    [key], {});\n",
              "        if (!dataTable) return;\n",
              "\n",
              "        const docLinkHtml = 'Like what you see? Visit the ' +\n",
              "          '<a target=\"_blank\" href=https://colab.research.google.com/notebooks/data_table.ipynb>data table notebook</a>'\n",
              "          + ' to learn more about interactive tables.';\n",
              "        element.innerHTML = '';\n",
              "        dataTable['output_type'] = 'display_data';\n",
              "        await google.colab.output.renderOutput(dataTable, element);\n",
              "        const docLink = document.createElement('div');\n",
              "        docLink.innerHTML = docLinkHtml;\n",
              "        element.appendChild(docLink);\n",
              "      }\n",
              "    </script>\n",
              "  </div>\n",
              "\n",
              "\n",
              "    <div id=\"df-72cd505e-292a-4feb-8b10-73d1a594f818\">\n",
              "      <button class=\"colab-df-quickchart\" onclick=\"quickchart('df-72cd505e-292a-4feb-8b10-73d1a594f818')\"\n",
              "                title=\"Suggest charts\"\n",
              "                style=\"display:none;\">\n",
              "\n",
              "<svg xmlns=\"http://www.w3.org/2000/svg\" height=\"24px\"viewBox=\"0 0 24 24\"\n",
              "     width=\"24px\">\n",
              "    <g>\n",
              "        <path d=\"M19 3H5c-1.1 0-2 .9-2 2v14c0 1.1.9 2 2 2h14c1.1 0 2-.9 2-2V5c0-1.1-.9-2-2-2zM9 17H7v-7h2v7zm4 0h-2V7h2v10zm4 0h-2v-4h2v4z\"/>\n",
              "    </g>\n",
              "</svg>\n",
              "      </button>\n",
              "\n",
              "<style>\n",
              "  .colab-df-quickchart {\n",
              "      --bg-color: #E8F0FE;\n",
              "      --fill-color: #1967D2;\n",
              "      --hover-bg-color: #E2EBFA;\n",
              "      --hover-fill-color: #174EA6;\n",
              "      --disabled-fill-color: #AAA;\n",
              "      --disabled-bg-color: #DDD;\n",
              "  }\n",
              "\n",
              "  [theme=dark] .colab-df-quickchart {\n",
              "      --bg-color: #3B4455;\n",
              "      --fill-color: #D2E3FC;\n",
              "      --hover-bg-color: #434B5C;\n",
              "      --hover-fill-color: #FFFFFF;\n",
              "      --disabled-bg-color: #3B4455;\n",
              "      --disabled-fill-color: #666;\n",
              "  }\n",
              "\n",
              "  .colab-df-quickchart {\n",
              "    background-color: var(--bg-color);\n",
              "    border: none;\n",
              "    border-radius: 50%;\n",
              "    cursor: pointer;\n",
              "    display: none;\n",
              "    fill: var(--fill-color);\n",
              "    height: 32px;\n",
              "    padding: 0;\n",
              "    width: 32px;\n",
              "  }\n",
              "\n",
              "  .colab-df-quickchart:hover {\n",
              "    background-color: var(--hover-bg-color);\n",
              "    box-shadow: 0 1px 2px rgba(60, 64, 67, 0.3), 0 1px 3px 1px rgba(60, 64, 67, 0.15);\n",
              "    fill: var(--button-hover-fill-color);\n",
              "  }\n",
              "\n",
              "  .colab-df-quickchart-complete:disabled,\n",
              "  .colab-df-quickchart-complete:disabled:hover {\n",
              "    background-color: var(--disabled-bg-color);\n",
              "    fill: var(--disabled-fill-color);\n",
              "    box-shadow: none;\n",
              "  }\n",
              "\n",
              "  .colab-df-spinner {\n",
              "    border: 2px solid var(--fill-color);\n",
              "    border-color: transparent;\n",
              "    border-bottom-color: var(--fill-color);\n",
              "    animation:\n",
              "      spin 1s steps(1) infinite;\n",
              "  }\n",
              "\n",
              "  @keyframes spin {\n",
              "    0% {\n",
              "      border-color: transparent;\n",
              "      border-bottom-color: var(--fill-color);\n",
              "      border-left-color: var(--fill-color);\n",
              "    }\n",
              "    20% {\n",
              "      border-color: transparent;\n",
              "      border-left-color: var(--fill-color);\n",
              "      border-top-color: var(--fill-color);\n",
              "    }\n",
              "    30% {\n",
              "      border-color: transparent;\n",
              "      border-left-color: var(--fill-color);\n",
              "      border-top-color: var(--fill-color);\n",
              "      border-right-color: var(--fill-color);\n",
              "    }\n",
              "    40% {\n",
              "      border-color: transparent;\n",
              "      border-right-color: var(--fill-color);\n",
              "      border-top-color: var(--fill-color);\n",
              "    }\n",
              "    60% {\n",
              "      border-color: transparent;\n",
              "      border-right-color: var(--fill-color);\n",
              "    }\n",
              "    80% {\n",
              "      border-color: transparent;\n",
              "      border-right-color: var(--fill-color);\n",
              "      border-bottom-color: var(--fill-color);\n",
              "    }\n",
              "    90% {\n",
              "      border-color: transparent;\n",
              "      border-bottom-color: var(--fill-color);\n",
              "    }\n",
              "  }\n",
              "</style>\n",
              "\n",
              "      <script>\n",
              "        async function quickchart(key) {\n",
              "          const quickchartButtonEl =\n",
              "            document.querySelector('#' + key + ' button');\n",
              "          quickchartButtonEl.disabled = true;  // To prevent multiple clicks.\n",
              "          quickchartButtonEl.classList.add('colab-df-spinner');\n",
              "          try {\n",
              "            const charts = await google.colab.kernel.invokeFunction(\n",
              "                'suggestCharts', [key], {});\n",
              "          } catch (error) {\n",
              "            console.error('Error during call to suggestCharts:', error);\n",
              "          }\n",
              "          quickchartButtonEl.classList.remove('colab-df-spinner');\n",
              "          quickchartButtonEl.classList.add('colab-df-quickchart-complete');\n",
              "        }\n",
              "        (() => {\n",
              "          let quickchartButtonEl =\n",
              "            document.querySelector('#df-72cd505e-292a-4feb-8b10-73d1a594f818 button');\n",
              "          quickchartButtonEl.style.display =\n",
              "            google.colab.kernel.accessAllowed ? 'block' : 'none';\n",
              "        })();\n",
              "      </script>\n",
              "    </div>\n",
              "\n",
              "    </div>\n",
              "  </div>\n"
            ],
            "text/plain": [
              "   id_cliente  cancelamento  genero  idoso  possui_conjuge  \\\n",
              "0  0002-ORFBO             0       0      0               1   \n",
              "1  0003-MKNFE             0       1      0               0   \n",
              "2  0004-TLHLJ             1       1      0               0   \n",
              "3  0011-IGKFF             1       1      1               1   \n",
              "4  0013-EXCHZ             1       0      1               1   \n",
              "\n",
              "   possui_dependentes  meses_como_cliente  servico_telefonico  \\\n",
              "0                   1                   9                   1   \n",
              "1                   0                   9                   1   \n",
              "2                   0                   4                   1   \n",
              "3                   0                  13                   1   \n",
              "4                   0                   3                   1   \n",
              "\n",
              "   multiplas_linhas servico_internet  ... protecao_dispositivo  \\\n",
              "0                 0              DSL  ...                    0   \n",
              "1                 1              DSL  ...                    0   \n",
              "2                 0      Fiber optic  ...                    1   \n",
              "3                 0      Fiber optic  ...                    1   \n",
              "4                 0      Fiber optic  ...                    0   \n",
              "\n",
              "   suporte_tecnico  tv_streaming  filmes_streaming   tipo_contrato  \\\n",
              "0                1             1                 0        One year   \n",
              "1                0             0                 1  Month-to-month   \n",
              "2                0             0                 0  Month-to-month   \n",
              "3                0             1                 1  Month-to-month   \n",
              "4                1             1                 0  Month-to-month   \n",
              "\n",
              "   fatura_online  metodo_pagamento  custo_mensal custo_total  contas_diarias  \n",
              "0              1      Mailed check          65.6       593.0        2.186667  \n",
              "1              0      Mailed check          59.9       542.0        1.996667  \n",
              "2              1  Electronic check          73.9       280.0        2.463333  \n",
              "3              1  Electronic check          98.0      1237.0        3.266667  \n",
              "4              1      Mailed check          83.9       267.0        2.796667  \n",
              "\n",
              "[5 rows x 22 columns]"
            ]
          },
          "execution_count": 2,
          "metadata": {},
          "output_type": "execute_result"
        }
      ],
      "source": [
        "df = pd.read_csv('/content/datos_limpios.csv')\n",
        "df.head()"
      ]
    },
    {
      "cell_type": "code",
      "execution_count": null,
      "metadata": {
        "colab": {
          "base_uri": "https://localhost:8080/"
        },
        "id": "ZcHg-7kj3tmv",
        "outputId": "af4bc51c-2d61-4bcc-e382-04452c95456e"
      },
      "outputs": [
        {
          "name": "stdout",
          "output_type": "stream",
          "text": [
            "Columnas categóricas: ['id_cliente', 'servico_internet', 'seguranca_online', 'tipo_contrato', 'metodo_pagamento']\n",
            "Columnas numéricas: ['genero', 'idoso', 'possui_conjuge', 'possui_dependentes', 'meses_como_cliente', 'servico_telefonico', 'multiplas_linhas', 'backup_online', 'protecao_dispositivo', 'suporte_tecnico', 'tv_streaming', 'filmes_streaming', 'fatura_online', 'custo_mensal', 'custo_total', 'contas_diarias']\n",
            "\n",
            "Preprocesamiento completo. Datos listos para modelado.\n",
            "X_train: (5813, 7292), X_test: (1454, 7292)\n"
          ]
        }
      ],
      "source": [
        "# --- 2. Crear variable objetivo 'churn' ---\n",
        "# La columna 'cancelamento' ya es 0/1\n",
        "df['churn'] = df['cancelamento']\n",
        "\n",
        "# --- 3. Identificar columnas categóricas y numéricas ---\n",
        "categorical_cols = df.select_dtypes(include=['object']).columns.tolist()\n",
        "numerical_cols = df.select_dtypes(include=['number']).columns.tolist()\n",
        "\n",
        "# Excluir variable objetivo y columna original 'cancelamento'\n",
        "if 'churn' in numerical_cols:\n",
        "    numerical_cols.remove('churn')\n",
        "if 'cancelamento' in numerical_cols:\n",
        "    numerical_cols.remove('cancelamento')\n",
        "\n",
        "print(f\"Columnas categóricas: {categorical_cols}\")\n",
        "print(f\"Columnas numéricas: {numerical_cols}\")\n",
        "\n",
        "# --- 4. One-Hot Encoding para categóricas ---\n",
        "df = pd.get_dummies(df, columns=categorical_cols, drop_first=True)\n",
        "\n",
        "# --- 5. Escalado de columnas numéricas ---\n",
        "scaler = RobustScaler()\n",
        "df[numerical_cols] = scaler.fit_transform(df[numerical_cols])\n",
        "\n",
        "# --- 6. Separar X e y ---\n",
        "X = df.drop('churn', axis=1)\n",
        "y = df['churn']\n",
        "\n",
        "# --- 7. Split en entrenamiento y test ---\n",
        "X_train, X_test, y_train, y_test = train_test_split(\n",
        "    X, y, test_size=0.2, random_state=42, stratify=y\n",
        ")\n",
        "\n",
        "print(\"\\nPreprocesamiento completo. Datos listos para modelado.\")\n",
        "print(f\"X_train: {X_train.shape}, X_test: {X_test.shape}\")"
      ]
    },
    {
      "cell_type": "code",
      "execution_count": null,
      "metadata": {
        "colab": {
          "base_uri": "https://localhost:8080/"
        },
        "id": "WC4apJypzYIH",
        "outputId": "55f13ed5-33d8-4c11-832a-31e0bf541de0"
      },
      "outputs": [
        {
          "name": "stdout",
          "output_type": "stream",
          "text": [
            "<class 'pandas.core.frame.DataFrame'>\n",
            "RangeIndex: 7267 entries, 0 to 7266\n",
            "Data columns (total 22 columns):\n",
            " #   Column                Non-Null Count  Dtype  \n",
            "---  ------                --------------  -----  \n",
            " 0   id_cliente            7267 non-null   object \n",
            " 1   cancelamento          7267 non-null   int64  \n",
            " 2   genero                7267 non-null   int64  \n",
            " 3   idoso                 7267 non-null   int64  \n",
            " 4   possui_conjuge        7267 non-null   int64  \n",
            " 5   possui_dependentes    7267 non-null   int64  \n",
            " 6   meses_como_cliente    7267 non-null   int64  \n",
            " 7   servico_telefonico    7267 non-null   int64  \n",
            " 8   multiplas_linhas      7267 non-null   int64  \n",
            " 9   servico_internet      7267 non-null   object \n",
            " 10  seguranca_online      7267 non-null   object \n",
            " 11  backup_online         7267 non-null   int64  \n",
            " 12  protecao_dispositivo  7267 non-null   int64  \n",
            " 13  suporte_tecnico       7267 non-null   int64  \n",
            " 14  tv_streaming          7267 non-null   int64  \n",
            " 15  filmes_streaming      7267 non-null   int64  \n",
            " 16  tipo_contrato         7267 non-null   object \n",
            " 17  fatura_online         7267 non-null   int64  \n",
            " 18  metodo_pagamento      7267 non-null   object \n",
            " 19  custo_mensal          7267 non-null   float64\n",
            " 20  custo_total           7267 non-null   float64\n",
            " 21  contas_diarias        7267 non-null   float64\n",
            "dtypes: float64(3), int64(14), object(5)\n",
            "memory usage: 1.2+ MB\n"
          ]
        }
      ],
      "source": [
        "df.info()"
      ]
    },
    {
      "cell_type": "markdown",
      "metadata": {
        "id": "f51AUUQ1zemQ"
      },
      "source": [
        "Limpieza y Procesamiento de los Datos"
      ]
    },
    {
      "cell_type": "code",
      "execution_count": null,
      "metadata": {
        "colab": {
          "base_uri": "https://localhost:8080/"
        },
        "id": "fs1ZE9hw0Lf3",
        "outputId": "265ddea5-28c1-4d74-9e21-c79a54f15b66"
      },
      "outputs": [
        {
          "name": "stdout",
          "output_type": "stream",
          "text": [
            "⚠️ La columna 'account_Charges_Total' no existe. Columnas disponibles: ['id_cliente', 'cancelamento', 'genero', 'idoso', 'possui_conjuge', 'possui_dependentes', 'meses_como_cliente', 'servico_telefonico', 'multiplas_linhas', 'servico_internet', 'seguranca_online', 'backup_online', 'protecao_dispositivo', 'suporte_tecnico', 'tv_streaming', 'filmes_streaming', 'tipo_contrato', 'fatura_online', 'metodo_pagamento', 'custo_mensal', 'custo_total', 'contas_diarias']\n"
          ]
        }
      ],
      "source": [
        "col = 'account_Charges_Total'\n",
        "\n",
        "if col in df.columns:\n",
        "    # 1. Convertir a numérico\n",
        "    df[col] = pd.to_numeric(df[col], errors='coerce')\n",
        "\n",
        "    # 2. Calcular la mediana e imputar valores faltantes\n",
        "    median_val = df[col].median()\n",
        "    df[col].fillna(median_val, inplace=True)\n",
        "\n",
        "    # 3. Verificar valores nulos\n",
        "    print(f\"Valores nulos restantes en '{col}': {df[col].isnull().sum()}\")\n",
        "else:\n",
        "    print(f\"⚠️ La columna '{col}' no existe. Columnas disponibles: {df.columns.tolist()}\")"
      ]
    },
    {
      "cell_type": "markdown",
      "metadata": {
        "id": "u1ehM1Lv1NOv"
      },
      "source": [
        "Conversion de variable Churn"
      ]
    },
    {
      "cell_type": "code",
      "execution_count": null,
      "metadata": {
        "colab": {
          "base_uri": "https://localhost:8080/"
        },
        "id": "xBmhbz9C1QG3",
        "outputId": "cc11c96f-84f7-475b-cdad-a399a5bb504b"
      },
      "outputs": [
        {
          "name": "stdout",
          "output_type": "stream",
          "text": [
            "[0 1]\n"
          ]
        }
      ],
      "source": [
        "# Convertir Yes/No a 1/0\n",
        "df['churn'] = df['cancelamento'].map({'Yes': 1, 'No': 0})\n",
        "print(df['cancelamento'].unique())"
      ]
    },
    {
      "cell_type": "markdown",
      "metadata": {
        "id": "vr0WDCUM25Z_"
      },
      "source": []
    },
    {
      "cell_type": "code",
      "execution_count": null,
      "metadata": {
        "colab": {
          "base_uri": "https://localhost:8080/"
        },
        "id": "Jinj3L_U23-3",
        "outputId": "fea46898-3e72-4f10-804f-84f1da38e125"
      },
      "outputs": [
        {
          "name": "stdout",
          "output_type": "stream",
          "text": [
            "\n",
            "Columnas categóricas identificadas: ['id_cliente', 'servico_internet', 'seguranca_online', 'tipo_contrato', 'metodo_pagamento']\n",
            "Columnas numéricas identificadas: ['cancelamento', 'genero', 'idoso', 'possui_conjuge', 'possui_dependentes', 'meses_como_cliente', 'servico_telefonico', 'multiplas_linhas', 'backup_online', 'protecao_dispositivo', 'suporte_tecnico', 'tv_streaming', 'filmes_streaming', 'fatura_online', 'custo_mensal', 'custo_total', 'contas_diarias']\n"
          ]
        }
      ],
      "source": [
        "target = 'churn'  # asegurate que coincide con tu DataFrame\n",
        "\n",
        "# Columnas categóricas y numéricas\n",
        "categorical_cols = df.select_dtypes(include=['object']).columns.tolist()\n",
        "numerical_cols = df.select_dtypes(include=['number']).columns.tolist()\n",
        "\n",
        "# Excluir variable objetivo\n",
        "if target in numerical_cols:\n",
        "    numerical_cols.remove(target)\n",
        "\n",
        "print(f\"\\nColumnas categóricas identificadas: {categorical_cols}\")\n",
        "print(f\"Columnas numéricas identificadas: {numerical_cols}\")\n"
      ]
    },
    {
      "cell_type": "markdown",
      "metadata": {
        "id": "TnpFS2pe62rR"
      },
      "source": [
        "Analisis de Correlación"
      ]
    },
    {
      "cell_type": "code",
      "execution_count": null,
      "metadata": {
        "colab": {
          "background_save": true
        },
        "id": "8KFgnxt38unh",
        "outputId": "cd367000-01fd-493b-bc6d-0b84c8beba82"
      },
      "outputs": [
        {
          "name": "stdout",
          "output_type": "stream",
          "text": [
            "Top 5 variables más correlacionadas con churn: ['contas_diarias', 'custo_mensal', 'fatura_online', 'idoso', 'tv_streaming']\n"
          ]
        },
        {
          "data": {
            "image/png": "[encoded data removed]",
            "text/plain": [
              "<Figure size 600x400 with 2 Axes>"
            ]
          },
          "metadata": {},
          "output_type": "display_data"
        }
      ],
      "source": [
        "# Calcular correlación con churn\n",
        "corr_with_churn = df[numerical_cols + ['churn']].corr()['churn'].sort_values(ascending=False)\n",
        "\n",
        "# Seleccionar top 5 variables más correlacionadas (omitimos 'churn')\n",
        "top5_vars = corr_with_churn.index[1:6].tolist()\n",
        "print(\"Top 5 variables más correlacionadas con churn:\", top5_vars)\n",
        "\n",
        "# Heatmap solo de esas 5 variables + churn\n",
        "plt.figure(figsize=(6,4))\n",
        "sns.heatmap(df[top5_vars + ['churn']].corr(), annot=True, fmt=\".2f\", cmap='coolwarm', center=0)\n",
        "plt.title(\"Correlación de Top 5 Variables Numéricas con churn\")\n",
        "plt.show()\n"
      ]
    }
  ],
  "metadata": {
    "colab": {
      "provenance": [],
      "authorship_tag": "ABX9TyPB8xQRnsg+bI8/XI+R2uSc",
      "include_colab_link": true
    },
    "kernelspec": {
      "display_name": "Python 3",
      "name": "python3"
    },
    "language_info": {
      "name": "python"
    }
  },
  "nbformat": 4,
  "nbformat_minor": 0
}